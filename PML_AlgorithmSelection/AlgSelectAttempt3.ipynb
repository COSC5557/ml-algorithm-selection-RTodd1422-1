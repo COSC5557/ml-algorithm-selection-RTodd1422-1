{
 "cells": [
  {
   "cell_type": "code",
   "execution_count": 5,
   "id": "e91ab7e0",
   "metadata": {},
   "outputs": [
    {
     "name": "stdout",
     "output_type": "stream",
     "text": [
      "Random Forest Accuracy (Cross-Validation): 0.6602822738290719\n",
      "Random Forest Accuracy (Test set): 0.689795918367347\n",
      "\n",
      "Support Vector Machine Accuracy (Cross-Validation): 0.5257767091510933\n",
      "Support Vector Machine Accuracy (Test set): 0.5061224489795918\n",
      "\n",
      "Decision Tree Accuracy (Cross-Validation): 0.5821806500377928\n",
      "Decision Tree Accuracy (Test set): 0.6061224489795919\n"
     ]
    }
   ],
   "source": [
    "import numpy as np\n",
    "import pandas as pd\n",
    "from sklearn.model_selection import train_test_split, cross_val_score\n",
    "from sklearn.ensemble import RandomForestClassifier\n",
    "from sklearn.svm import SVC\n",
    "from sklearn.tree import DecisionTreeClassifier\n",
    "from sklearn.metrics import accuracy_score\n",
    "\n",
    "# Load the White Wine Quality dataset\n",
    "data = pd.read_csv('winequality-white.csv')\n",
    "\n",
    "# Separate features (X) and target variable (y)\n",
    "X = data.drop('quality', axis=1)\n",
    "y = data['quality']\n",
    "\n",
    "# Split the dataset into training and testing sets\n",
    "X_train, X_test, y_train, y_test = train_test_split(X, y, test_size=0.2, random_state=42)\n",
    "\n",
    "# Random Forest Classifier\n",
    "rf_model = RandomForestClassifier(random_state=42)\n",
    "rf_scores = cross_val_score(rf_model, X_train, y_train, cv=5, scoring='accuracy')\n",
    "rf_accuracy = np.mean(rf_scores)\n",
    "\n",
    "# Support Vector Machine\n",
    "svm_model = SVC(kernel='linear')\n",
    "svm_scores = cross_val_score(svm_model, X_train, y_train, cv=5, scoring='accuracy')\n",
    "svm_accuracy = np.mean(svm_scores)\n",
    "\n",
    "# Decision Tree Classifier\n",
    "dt_model = DecisionTreeClassifier(random_state=42)\n",
    "dt_scores = cross_val_score(dt_model, X_train, y_train, cv=5, scoring='accuracy')\n",
    "dt_accuracy = np.mean(dt_scores)\n",
    "\n",
    "# Evaluate on the test set\n",
    "rf_model.fit(X_train, y_train)\n",
    "rf_test_accuracy = accuracy_score(y_test, rf_model.predict(X_test))\n",
    "\n",
    "svm_model.fit(X_train, y_train)\n",
    "svm_test_accuracy = accuracy_score(y_test, svm_model.predict(X_test))\n",
    "\n",
    "dt_model.fit(X_train, y_train)\n",
    "dt_test_accuracy = accuracy_score(y_test, dt_model.predict(X_test))\n",
    "\n",
    "# Print results\n",
    "print(\"Random Forest Accuracy (Cross-Validation):\", rf_accuracy)\n",
    "print(\"Random Forest Accuracy (Test set):\", rf_test_accuracy)\n",
    "\n",
    "print(\"\\nSupport Vector Machine Accuracy (Cross-Validation):\", svm_accuracy)\n",
    "print(\"Support Vector Machine Accuracy (Test set):\", svm_test_accuracy)\n",
    "\n",
    "print(\"\\nDecision Tree Accuracy (Cross-Validation):\", dt_accuracy)\n",
    "print(\"Decision Tree Accuracy (Test set):\", dt_test_accuracy)\n"
   ]
  },
  {
   "cell_type": "code",
   "execution_count": null,
   "id": "2fc150ac",
   "metadata": {},
   "outputs": [],
   "source": []
  }
 ],
 "metadata": {
  "kernelspec": {
   "display_name": "Python 3 (ipykernel)",
   "language": "python",
   "name": "python3"
  },
  "language_info": {
   "codemirror_mode": {
    "name": "ipython",
    "version": 3
   },
   "file_extension": ".py",
   "mimetype": "text/x-python",
   "name": "python",
   "nbconvert_exporter": "python",
   "pygments_lexer": "ipython3",
   "version": "3.9.13"
  }
 },
 "nbformat": 4,
 "nbformat_minor": 5
}
