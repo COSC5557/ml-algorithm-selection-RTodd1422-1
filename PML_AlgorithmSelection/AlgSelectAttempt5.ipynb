{
 "cells": [
  {
   "cell_type": "code",
   "execution_count": 1,
   "id": "f93bc177",
   "metadata": {},
   "outputs": [],
   "source": [
    "import numpy as np \n",
    "import pandas as pd \n",
    "from sklearn.model_selection import train_test_split \n",
    "from sklearn.metrics import accuracy_score"
   ]
  },
  {
   "cell_type": "code",
   "execution_count": 2,
   "id": "f1c3bc33",
   "metadata": {},
   "outputs": [],
   "source": [
    "whiteWine = pd.read_csv(\"winequality-white.csv\")\n",
    "# Separate features (X) and target variable (y)\n",
    "X = whiteWine.drop('quality', axis=1)\n",
    "Y = whiteWine['quality']\n",
    "x_train, X_test, y_train, Y_test = train_test_split(X, Y, test_size=0.2, random_state=42)"
   ]
  },
  {
   "cell_type": "code",
   "execution_count": 3,
   "id": "0ffa529a",
   "metadata": {},
   "outputs": [
    {
     "name": "stdout",
     "output_type": "stream",
     "text": [
      "LinearModel R^2:  0.26527500421791717\n",
      "DecisionTree R^2:  0.14754424552704748\n",
      "RandomForest R^2:  0.5509775612930288\n"
     ]
    }
   ],
   "source": [
    "#Regression\n",
    "#Linear Model, Decision Tree, Random Forest\n",
    "from sklearn.linear_model import LinearRegression\n",
    "from sklearn.tree import DecisionTreeRegressor\n",
    "from sklearn.ensemble import RandomForestRegressor\n",
    "\n",
    "#Train Models\n",
    "LR = LinearRegression()\n",
    "LR.fit(x_train, y_train)\n",
    "\n",
    "DT = DecisionTreeRegressor(random_state=42)\n",
    "DT.fit(x_train, y_train)\n",
    "\n",
    "RF = RandomForestRegressor(random_state=42)\n",
    "RF.fit(x_train, y_train)\n",
    "\n",
    "#Scores\n",
    "LRTestPred = LR.predict(X_test)\n",
    "print(\"LinearModel R^2: \",  LR.score(X_test, Y_test))\n",
    "\n",
    "DTTestPred = DT.predict(X_test)\n",
    "print(\"DecisionTree R^2: \",  DT.score(X_test, Y_test))\n",
    "\n",
    "RFTestPred = RF.predict(X_test)\n",
    "print(\"RandomForest R^2: \",  RF.score(X_test, Y_test))"
   ]
  },
  {
   "cell_type": "code",
   "execution_count": 4,
   "id": "dd903b39",
   "metadata": {},
   "outputs": [],
   "source": [
    "whiteWine2 = pd.read_csv('winequality-white.csv')\n",
    "whiteWine2['high quality'] = [1 if x > 5 else 0 for x in whiteWine2.quality]\n",
    "features2 = whiteWine2.drop(['quality', 'high quality'], axis=1)\n",
    "target2 = whiteWine2['high quality']\n",
    "x_train2, X_test2, y_train2, Y_test2 = train_test_split(features2, target2, test_size=0.2, random_state=42)"
   ]
  },
  {
   "cell_type": "code",
   "execution_count": 5,
   "id": "424e423e",
   "metadata": {},
   "outputs": [
    {
     "name": "stderr",
     "output_type": "stream",
     "text": [
      "C:\\Users\\rtodd\\anaconda3\\lib\\site-packages\\sklearn\\linear_model\\_logistic.py:460: ConvergenceWarning: lbfgs failed to converge (status=1):\n",
      "STOP: TOTAL NO. of ITERATIONS REACHED LIMIT.\n",
      "\n",
      "Increase the number of iterations (max_iter) or scale the data as shown in:\n",
      "    https://scikit-learn.org/stable/modules/preprocessing.html\n",
      "Please also refer to the documentation for alternative solver options:\n",
      "    https://scikit-learn.org/stable/modules/linear_model.html#logistic-regression\n",
      "  n_iter_i = _check_optimize_result(\n"
     ]
    },
    {
     "name": "stdout",
     "output_type": "stream",
     "text": [
      "SVC's accuracy for classification:  0.6785714285714286\n",
      "Logistic regression accuracy for classification:  0.7438775510204082\n",
      "Decision tree accuracy for classification:  0.7959183673469388\n",
      "KNN accuracy for classification:  0.7112244897959183\n",
      "Random Forest's accuracy for classification:  0.8418367346938775\n"
     ]
    }
   ],
   "source": [
    "#Classification\n",
    "#SVC, Logistic Regression Classifier, Decision Tree Classifier, KNN, Random Forest classifier\n",
    "from sklearn.svm import SVC\n",
    "from sklearn.linear_model import LogisticRegression\n",
    "from sklearn.tree import DecisionTreeClassifier\n",
    "from sklearn.neighbors import KNeighborsClassifier\n",
    "from sklearn.ensemble import RandomForestClassifier\n",
    "from sklearn.metrics import accuracy_score\n",
    "\n",
    "#Train Models\n",
    "SVC = SVC(random_state=42)\n",
    "SVC.fit(x_train2, y_train2)\n",
    "\n",
    "Log = LogisticRegression(random_state=42)\n",
    "Log.fit(x_train2, y_train2)\n",
    "\n",
    "DTC = DecisionTreeClassifier(random_state=42)\n",
    "DTC.fit(x_train2, y_train2)\n",
    "\n",
    "KNN = KNeighborsClassifier()\n",
    "KNN.fit(x_train2, y_train2)\n",
    "\n",
    "RFC = RandomForestClassifier(random_state=42)\n",
    "RFC.fit(x_train2, y_train2)\n",
    "\n",
    "#Scores\n",
    "SVCTestPred = SVC.predict(X_test2)\n",
    "print(\"SVC's accuracy for classification: \", SVC.score(X_test2, Y_test2))\n",
    "\n",
    "LogTestPred = Log.predict(X_test2)\n",
    "print(\"Logistic regression accuracy for classification: \", Log.score(X_test2, Y_test2))\n",
    "\n",
    "DTCTestPred = DTC.predict(X_test2)\n",
    "print(\"Decision tree accuracy for classification: \", DTC.score(X_test2, Y_test2))\n",
    "\n",
    "KNNTestPred = KNN.predict(X_test2)\n",
    "print(\"KNN accuracy for classification: \", KNN.score(X_test2, Y_test2))\n",
    "\n",
    "RFCTestPred = RFC.predict(X_test2)\n",
    "print(\"Random Forest's accuracy for classification: \", RFC.score(X_test2, Y_test2))"
   ]
  },
  {
   "cell_type": "code",
   "execution_count": null,
   "id": "8c4e99b9",
   "metadata": {},
   "outputs": [],
   "source": []
  }
 ],
 "metadata": {
  "kernelspec": {
   "display_name": "Python 3 (ipykernel)",
   "language": "python",
   "name": "python3"
  },
  "language_info": {
   "codemirror_mode": {
    "name": "ipython",
    "version": 3
   },
   "file_extension": ".py",
   "mimetype": "text/x-python",
   "name": "python",
   "nbconvert_exporter": "python",
   "pygments_lexer": "ipython3",
   "version": "3.9.13"
  }
 },
 "nbformat": 4,
 "nbformat_minor": 5
}
